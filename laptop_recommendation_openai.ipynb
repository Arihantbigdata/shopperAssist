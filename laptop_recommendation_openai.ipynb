{
 "cells": [
  {
   "cell_type": "code",
   "execution_count": 1,
   "metadata": {},
   "outputs": [],
   "source": [
    "import os\n",
    "import findspark\n",
    "\n",
    "# Set environment variables\n",
    "os.environ['JAVA_HOME'] = \"C:\\\\Program Files\\\\Java\\\\jdk-19\"\n",
    "os.environ['SPARK_HOME'] = \"C:\\\\spark\\\\spark-3.3.0-bin-hadoop3\"\n",
    "\n",
    "# Initialize findspark\n",
    "findspark.init()\n",
    "\n",
    "from pyspark.sql import SparkSession\n",
    "from pyspark.sql.types import StructType, StructField, StringType, IntegerType, DateType, DoubleType\n",
    "from pyspark.sql.functions import col, to_date\n",
    "from pyspark.sql.functions import sum, desc\n",
    "from pyspark.sql.functions import udf\n",
    "from pyspark.sql import functions as F\n",
    "from pyspark.sql.window import Window\n",
    "from pyspark.sql.functions import *\n",
    "\n",
    "# Initialize SparkSession\n",
    "spark = SparkSession.builder \\\n",
    "    .appName(\"SimpleTest\") \\\n",
    "    .getOrCreate()\n",
    "\n"
   ]
  },
  {
   "cell_type": "code",
   "execution_count": null,
   "metadata": {},
   "outputs": [],
   "source": [
    "# Problem 1\n",
    "file_location = \"C:\\\\Users\\\\ershiaa\\\\Downloads\\\\thoughtworkd\\\\customers.csv\"\n",
    "read_cust = spark.read.csv(file_location,header=True)\n",
    "read_cust.show(3,False)\n",
    "read_cust.printSchema()\n",
    "\n",
    "# Calculate the total number of transactions.\n",
    "ttbec = read_cust.groupBy(\"customer_id\").count()\n",
    "ttbec.show()\n",
    "\n",
    "# Calculate the total purchase amount for each customer.\n",
    "tpafec = read_cust.withColumn(\"customer_id\",read_cust[\"customer_id\"].cast(IntegerType())) \\\n",
    "        .withColumn(\"transaction_date\",to_date(col(\"transaction_date\"),\"yyyy-mm-dd\").cast(DateType())) \\\n",
    "        .withColumn(\"purchase_amount\", read_cust[\"purchase_amount\"].cast(DoubleType()))\n",
    "tpafec = tpafec.groupBy(\"customer_id\").agg(sum(\"purchase_amount\").alias(\"total_purchase_amount\"))\n",
    "\n",
    "# Determine the customer with the highest total purchase amount.\n",
    "\n",
    "tpafec_highest = tpafec.orderBy(desc(\"total_purchase_amount\"))\n",
    "tpafec_highest.first()\n",
    "\n",
    "# Calculate the average purchase amount per transaction.\n",
    "new_df = read_cust.withColumn(\"customer_id\",read_cust[\"customer_id\"].cast(IntegerType())) \\\n",
    "        .withColumn(\"transaction_date\",to_date(col(\"transaction_date\"),\"yyyy-mm-dd\").cast(DateType())) \\\n",
    "        .withColumn(\"purchase_amount\", read_cust[\"purchase_amount\"].cast(DoubleType()))\n",
    "new_df_sum = new_df.select(sum(\"purchase_amount\"))\n",
    "av1=new_df_sum.collect()[0][0]\n",
    "tot_sum = av1\n",
    "tot_cnt = new_df.count()\n",
    "avg1= tot_sum/tot_cnt\n",
    "print(avg1)"
   ]
  },
  {
   "cell_type": "code",
   "execution_count": 10,
   "metadata": {},
   "outputs": [
    {
     "name": "stdout",
     "output_type": "stream",
     "text": [
      "root\n",
      " |-- emp_id: integer (nullable = true)\n",
      " |-- emp_name: string (nullable = true)\n",
      " |-- salary: integer (nullable = true)\n",
      " |-- dept_id: integer (nullable = true)\n",
      " |-- dept_name: string (nullable = true)\n",
      "\n"
     ]
    }
   ],
   "source": [
    "emp = \"C:\\\\Users\\\\ershiaa\\\\Downloads\\\\thoughtworkd\\\\employees.csv\"\n",
    "dept = \"C:\\\\Users\\\\ershiaa\\\\Downloads\\\\thoughtworkd\\\\dept.csv\"\n",
    "read_employees = spark.read.csv(emp,header =\"true\")\n",
    "read_dept = spark.read.csv(dept,header =\"true\")\n",
    "employees = read_employees.withColumn(\"emp_id\", read_employees[\"emp_id\"].cast(IntegerType())) \\\n",
    "            .withColumn(\"salary\", read_employees[\"salary\"].cast(IntegerType())) \\\n",
    "            .withColumn(\"dept_id\", read_employees[\"dept_id\"].cast(IntegerType()))\n",
    "department = read_dept.withColumn(\"dept_id\", read_dept[\"dept_id\"].cast(IntegerType()))\n",
    "\n",
    "emp_dept = employees.join(department, employees.dept_id==department.dept_id, \"left\") \\\n",
    "            .select(\"emp_id\",\"emp_name\",\"salary\",employees[\"dept_id\"],\"dept_name\")\n",
    "emp_dept.printSchema()\n",
    "emp_dept.createOrReplaceTempView(\"emp_data1\")\n",
    "emp1 = spark.sql(\"select emp_id, emp_name,salary, dept_id, dept_name, DENSE_RANK() over(partition by dept_id order by salary desc) as rnk from emp_data1\")\n"
   ]
  },
  {
   "cell_type": "code",
   "execution_count": 25,
   "metadata": {},
   "outputs": [
    {
     "name": "stdout",
     "output_type": "stream",
     "text": [
      "+------+\n",
      "|emp_id|\n",
      "+------+\n",
      "|    32|\n",
      "+------+\n",
      "\n"
     ]
    }
   ],
   "source": [
    "#filter those emp and details where rnk =1 and dept = sales and IT \n",
    "emp1_filter = emp1.filter((emp1[\"rnk\"]==1) & (emp1[\"dept_name\"]==\"Sales\")).select(\"emp_id\")\n",
    "emp1_filter.show()"
   ]
  },
  {
   "cell_type": "markdown",
   "metadata": {},
   "source": []
  },
  {
   "cell_type": "code",
   "execution_count": 29,
   "metadata": {},
   "outputs": [
    {
     "name": "stdout",
     "output_type": "stream",
     "text": [
      "+------+----------------+------+-------+---------+-----------+\n",
      "|emp_id|        emp_name|salary|dept_id|dept_name|rank_normal|\n",
      "+------+----------------+------+-------+---------+-----------+\n",
      "|    32|Christopher Hill| 74000|      1|    Sales|          1|\n",
      "|    22|    Nathan Scott| 71000|      1|    Sales|          2|\n",
      "|    36|   Joseph Wright| 71000|      1|    Sales|          2|\n",
      "|    47|  Stephanie Gray| 71000|      1|    Sales|          2|\n",
      "|     3|     Michael Lee| 70000|      1|    Sales|          3|\n",
      "|    14|    Andrew Clark| 70000|      1|    Sales|          3|\n",
      "|    43|   Anna Phillips| 69000|      1|    Sales|          4|\n",
      "|    10|Ashley Rodriguez| 68000|      1|    Sales|          5|\n",
      "|    29|   Samantha King| 67000|      1|    Sales|          6|\n",
      "|    20|William Thompson| 66000|      1|    Sales|          7|\n",
      "|    25|      Ella Young| 63000|      1|    Sales|          8|\n",
      "|     6|   Sarah Johnson| 62000|      1|    Sales|          9|\n",
      "|    17|   Sophia Martin| 62000|      1|    Sales|          9|\n",
      "|    39|    Grace Thomas| 62000|      1|    Sales|          9|\n",
      "|     1|      John Smith| 60000|      1|    Sales|         10|\n",
      "|    12|     Mary Wilson| 60000|      1|    Sales|         10|\n",
      "|    24|     Joshua Hall| 82000|      2|Marketing|          1|\n",
      "|    38|   Charles Perez| 81000|      2|Marketing|          2|\n",
      "|     5|    David Wilson| 80000|      2|Marketing|          3|\n",
      "|    16|   Matthew Lewis| 80000|      2|Marketing|          3|\n",
      "+------+----------------+------+-------+---------+-----------+\n",
      "only showing top 20 rows\n",
      "\n"
     ]
    }
   ],
   "source": [
    "#now do it in dataframe POV\n",
    "WindowSpec = Window.partitionBy(\"dept_id\").orderBy(desc(\"salary\"))\n",
    "new_emp = emp_dept.withColumn(\"rank_normal\", dense_rank().over(WindowSpec))\n",
    "new_emp.show()"
   ]
  },
  {
   "cell_type": "code",
   "execution_count": 16,
   "metadata": {},
   "outputs": [
    {
     "name": "stdout",
     "output_type": "stream",
     "text": [
      "+------+----------------+------+-------+---------------+---+\n",
      "|emp_id|        emp_name|salary|dept_id|      dept_name|rnk|\n",
      "+------+----------------+------+-------+---------------+---+\n",
      "|    32|Christopher Hill| 74000|      1|          Sales|  1|\n",
      "|    24|     Joshua Hall| 82000|      2|      Marketing|  1|\n",
      "|    33|    Hailey Allen| 77000|      3|    Engineering|  1|\n",
      "|    41|   Lauren Carter| 78000|      4|Human Resources|  1|\n",
      "+------+----------------+------+-------+---------------+---+\n",
      "\n"
     ]
    }
   ],
   "source": []
  },
  {
   "cell_type": "code",
   "execution_count": null,
   "metadata": {},
   "outputs": [],
   "source": []
  },
  {
   "cell_type": "code",
   "execution_count": null,
   "metadata": {},
   "outputs": [],
   "source": []
  },
  {
   "cell_type": "code",
   "execution_count": null,
   "metadata": {},
   "outputs": [],
   "source": []
  },
  {
   "cell_type": "code",
   "execution_count": null,
   "metadata": {},
   "outputs": [],
   "source": []
  },
  {
   "cell_type": "code",
   "execution_count": null,
   "metadata": {},
   "outputs": [],
   "source": []
  },
  {
   "cell_type": "code",
   "execution_count": null,
   "metadata": {},
   "outputs": [],
   "source": [
    "# # Define schema\n",
    "# schema = StructType([\n",
    "#     StructField(\"emp_id\", IntegerType(), True),\n",
    "#     StructField(\"emp_name\", StringType(), True),\n",
    "#     StructField(\"salary\", IntegerType(), True),\n",
    "#     StructField(\"dept_id\", IntegerType(), True),\n",
    "#     StructField(\"dept_name\", StringType(), True)\n",
    "# ])\n",
    "\n",
    "# # Sample data\n",
    "# data = [\n",
    "#     (1, \"John Doe\", 50000, 101, \"HR\"),\n",
    "#     (2, \"Jane Smith\", 60000, 102, \"Finance\"),\n",
    "#     (3, \"Sam Brown\", 55000, 103, \"IT\")\n",
    "# ]\n",
    "\n",
    "# # Create DataFrame\n",
    "# emp_dept = spark.createDataFrame(data, schema)\n",
    "# emp_dept.show()\n",
    "\n",
    "# # Print schema\n",
    "# emp_dept.printSchema()"
   ]
  },
  {
   "cell_type": "code",
   "execution_count": null,
   "metadata": {},
   "outputs": [],
   "source": []
  }
 ],
 "metadata": {
  "kernelspec": {
   "display_name": "Python 3",
   "language": "python",
   "name": "python3"
  },
  "language_info": {
   "codemirror_mode": {
    "name": "ipython",
    "version": 3
   },
   "file_extension": ".py",
   "mimetype": "text/x-python",
   "name": "python",
   "nbconvert_exporter": "python",
   "pygments_lexer": "ipython3",
   "version": "3.9.0"
  }
 },
 "nbformat": 4,
 "nbformat_minor": 2
}
